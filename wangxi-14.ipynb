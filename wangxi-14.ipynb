{
 "cells": [
  {
   "cell_type": "code",
   "execution_count": 19,
   "metadata": {},
   "outputs": [
    {
     "name": "stdout",
     "output_type": "stream",
     "text": [
      "Hello,I'm Zhang San.\n"
     ]
    }
   ],
   "source": [
    "class Person:\n",
    "    def set_name(self,name):\n",
    "        self.name=name\n",
    "        \n",
    "    def get_name(self):\n",
    "        return self.name\n",
    "    \n",
    "    def greet(self):\n",
    "        print(\"Hello,I'm {}.\".format(self.name))\n",
    "        \n",
    "zs=Person()\n",
    "zs.set_name('Zhang San')\n",
    "zs.greet()"
   ]
  },
  {
   "cell_type": "code",
   "execution_count": 29,
   "metadata": {},
   "outputs": [
    {
     "name": "stdout",
     "output_type": "stream",
     "text": [
      "Total number of person:1\n",
      "Total number of person:2\n",
      "Hello,I'm Zhang San.\n",
      "Hello,I'm Li Si.\n",
      "Total number of person:3\n"
     ]
    }
   ],
   "source": [
    "class Person:\n",
    "    count=0\n",
    "    \n",
    "    def __init__(self,name=None):\n",
    "        self.__name=name\n",
    "        Person.count+=1\n",
    "        print('Total number of person:{}'.format(Person.count))\n",
    "        \n",
    "    def set_name(self,name):\n",
    "        #assert(isinstance(name,str))\n",
    "        if isinstance(name,str):\n",
    "            self.__name=name\n",
    "        else:\n",
    "            print('Not a valid name.')\n",
    "        \n",
    "    def get_name(self):\n",
    "        return self.__name\n",
    "    \n",
    "    def greet(self):\n",
    "        print(\"Hello,I'm {}.\".format(self.__name))\n",
    "\n",
    "zs=Person('Zhang San')\n",
    "ls=Person('Li Si')\n",
    "zs.greet()\n",
    "ls.greet()\n",
    "ww=Person()"
   ]
  },
  {
   "cell_type": "code",
   "execution_count": 28,
   "metadata": {},
   "outputs": [
    {
     "name": "stdout",
     "output_type": "stream",
     "text": [
      "Not a valid name.\n"
     ]
    }
   ],
   "source": [
    "zs.set_name(1)"
   ]
  },
  {
   "cell_type": "code",
   "execution_count": 31,
   "metadata": {},
   "outputs": [
    {
     "name": "stdout",
     "output_type": "stream",
     "text": [
      "Hello,I'm Zhang San.\n"
     ]
    }
   ],
   "source": [
    "zs.__name='Li Si'\n",
    "zs.greet()"
   ]
  },
  {
   "cell_type": "code",
   "execution_count": 35,
   "metadata": {},
   "outputs": [
    {
     "name": "stdout",
     "output_type": "stream",
     "text": [
      "1\n"
     ]
    }
   ],
   "source": [
    "print('hello'.count('e'))"
   ]
  },
  {
   "cell_type": "code",
   "execution_count": 37,
   "metadata": {},
   "outputs": [
    {
     "name": "stdout",
     "output_type": "stream",
     "text": [
      "2\n"
     ]
    }
   ],
   "source": [
    "print([1,2,3,'e','e',4].count('e'))"
   ]
  },
  {
   "cell_type": "code",
   "execution_count": 38,
   "metadata": {},
   "outputs": [
    {
     "name": "stdout",
     "output_type": "stream",
     "text": [
      "1\n",
      "2\n"
     ]
    }
   ],
   "source": [
    "my_list=['helo',[1,2,3,'e','e',4]]\n",
    "for item in my_list:\n",
    "    print(item.count('e'))"
   ]
  },
  {
   "cell_type": "code",
   "execution_count": 43,
   "metadata": {},
   "outputs": [
    {
     "name": "stdout",
     "output_type": "stream",
     "text": [
      "meow...\n",
      "wang,wang...\n",
      "meow...\n"
     ]
    }
   ],
   "source": [
    "class Cat:\n",
    "    def talk(self):\n",
    "        print('meow...')\n",
    "        \n",
    "class Dog:\n",
    "    def talk(self):\n",
    "        print('wang,wang...')\n",
    "        \n",
    "pets=[Cat(),Dog(),Cat()]\n",
    "\n",
    "for item in pets:\n",
    "    item.talk()"
   ]
  },
  {
   "cell_type": "code",
   "execution_count": 44,
   "metadata": {},
   "outputs": [
    {
     "name": "stdout",
     "output_type": "stream",
     "text": [
      "2\n",
      "ab\n"
     ]
    }
   ],
   "source": [
    "def add(a,b):\n",
    "    return a+b\n",
    "a=1\n",
    "b=1\n",
    "print(add(a,b))\n",
    "x,y='a','b'\n",
    "print(add(x,y))"
   ]
  },
  {
   "cell_type": "code",
   "execution_count": 47,
   "metadata": {},
   "outputs": [
    {
     "name": "stdout",
     "output_type": "stream",
     "text": [
      "Total number of person:5\n",
      "Hello,I'm Zhang San.\n",
      "My score is:100\n"
     ]
    }
   ],
   "source": [
    "class Student(Person):\n",
    "    def set_score(self,score):\n",
    "        self.__score=score\n",
    "        \n",
    "    def get_score(self):\n",
    "        return self.__score\n",
    "    \n",
    "    def show_score(self):\n",
    "        print('My score is:{}'.format(self.__score))\n",
    "        \n",
    "zs=Student()\n",
    "zs.set_name('Zhang San')\n",
    "zs.set_score(100)\n",
    "zs.greet()\n",
    "zs.show_score()"
   ]
  },
  {
   "cell_type": "code",
   "execution_count": 53,
   "metadata": {},
   "outputs": [
    {
     "data": {
      "text/plain": [
       "[1, 2, 3]"
      ]
     },
     "execution_count": 53,
     "metadata": {},
     "output_type": "execute_result"
    }
   ],
   "source": [
    "class Filter:\n",
    "    def __init__(self):\n",
    "        self.blocked=[]\n",
    "    def filter(self,sequence):\n",
    "        return[x for x in sequence if x not in self.blocked]\n",
    "    \n",
    "class SpanFilter(Filter):\n",
    "    def __init__(self):\n",
    "        self.blocked=['SPAM']\n",
    "        \n",
    "f=Filter()\n",
    "f.filter([1,2,3])"
   ]
  },
  {
   "cell_type": "code",
   "execution_count": 55,
   "metadata": {},
   "outputs": [
    {
     "data": {
      "text/plain": [
       "['Bacon', 'eggs', 'sansage']"
      ]
     },
     "execution_count": 55,
     "metadata": {},
     "output_type": "execute_result"
    }
   ],
   "source": [
    "sf = Filter()\n",
    "sf.blocked=['SPAM']\n",
    "sf.filter(['SPAM','SPAM','Bacon','eggs','sansage','SPAM'])"
   ]
  },
  {
   "cell_type": "code",
   "execution_count": 60,
   "metadata": {},
   "outputs": [
    {
     "name": "stdout",
     "output_type": "stream",
     "text": [
      "My value is: 6\n"
     ]
    }
   ],
   "source": [
    "class Calculator:\n",
    "    def calculate(self,expression):\n",
    "        return eval(expression)\n",
    "        \n",
    "class Talker:\n",
    "    def talk(self,value):\n",
    "        print('My value is:',value)\n",
    "        \n",
    "class TalkingCalculator:\n",
    "    def __init__(self):\n",
    "        self.__calculator=Calculator()\n",
    "        self.__talker=Talker()\n",
    "        self.__value=None\n",
    "        \n",
    "    def calculate(self,expression):\n",
    "        self.__value=self.__calculator.calculate(expression)\n",
    "        \n",
    "    def talk(self):\n",
    "        self.__talker.talk(self.__value)\n",
    "\n",
    "tc=TalkingCalculator()\n",
    "tc.calculate('1+2+3')\n",
    "tc.talk()"
   ]
  },
  {
   "cell_type": "code",
   "execution_count": null,
   "metadata": {},
   "outputs": [],
   "source": []
  }
 ],
 "metadata": {
  "kernelspec": {
   "display_name": "Python 3",
   "language": "python",
   "name": "python3"
  },
  "language_info": {
   "codemirror_mode": {
    "name": "ipython",
    "version": 3
   },
   "file_extension": ".py",
   "mimetype": "text/x-python",
   "name": "python",
   "nbconvert_exporter": "python",
   "pygments_lexer": "ipython3",
   "version": "3.7.3"
  }
 },
 "nbformat": 4,
 "nbformat_minor": 2
}
