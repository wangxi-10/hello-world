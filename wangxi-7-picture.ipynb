{
 "cells": [
  {
   "cell_type": "code",
   "execution_count": 1,
   "metadata": {},
   "outputs": [],
   "source": [
    "from PIL import Image\n",
    "img1 = Image.open( \"happy.png \")\n",
    "#sad.png  angry.png  fear.png\n",
    "img1 = img1.convert('RGBA')\n",
    "\n",
    "img2 = Image.open( \"sad.png \")\n",
    "img2 = img2.convert('RGBA')\n",
    "\n",
    "img = Image.blend(img1, img2, 0.4)\n",
    "img.show()\n",
    "img.save( \"blend.png\")"
   ]
  },
  {
   "cell_type": "code",
   "execution_count": 2,
   "metadata": {},
   "outputs": [],
   "source": [
    "img3=img.convert(\"L\")\n",
    "img3.show()"
   ]
  },
  {
   "cell_type": "code",
   "execution_count": null,
   "metadata": {},
   "outputs": [],
   "source": []
  }
 ],
 "metadata": {
  "kernelspec": {
   "display_name": "Python 3",
   "language": "python",
   "name": "python3"
  },
  "language_info": {
   "codemirror_mode": {
    "name": "ipython",
    "version": 3
   },
   "file_extension": ".py",
   "mimetype": "text/x-python",
   "name": "python",
   "nbconvert_exporter": "python",
   "pygments_lexer": "ipython3",
   "version": "3.7.3"
  }
 },
 "nbformat": 4,
 "nbformat_minor": 2
}
