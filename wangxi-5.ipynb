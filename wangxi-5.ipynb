{
 "cells": [
  {
   "cell_type": "code",
   "execution_count": 10,
   "metadata": {},
   "outputs": [
    {
     "name": "stdout",
     "output_type": "stream",
     "text": [
      "{'h': 1, 'e': 1, 'l': 3, 'o': 2, ',': 1, 'w': 1, 'r': 1, 'd': 1}\n"
     ]
    }
   ],
   "source": [
    "count={}\n",
    "for ch in 'hello,world':\n",
    "    count.setdefault(ch,0)\n",
    "    count[ch]+=1\n",
    "print(count)"
   ]
  },
  {
   "cell_type": "code",
   "execution_count": 30,
   "metadata": {},
   "outputs": [
    {
     "name": "stdout",
     "output_type": "stream",
     "text": [
      "1 2\n"
     ]
    }
   ],
   "source": [
    "x,y=1,2\n",
    "print(x,y)"
   ]
  },
  {
   "cell_type": "code",
   "execution_count": 11,
   "metadata": {},
   "outputs": [
    {
     "name": "stdout",
     "output_type": "stream",
     "text": [
      "2 1\n"
     ]
    }
   ],
   "source": [
    "x,y=y,x\n",
    "print(x,y)"
   ]
  },
  {
   "cell_type": "code",
   "execution_count": 12,
   "metadata": {},
   "outputs": [
    {
     "name": "stdout",
     "output_type": "stream",
     "text": [
      "1 2 3\n"
     ]
    }
   ],
   "source": [
    "x,y,z=1,2,3\n",
    "print(x,y,z)"
   ]
  },
  {
   "cell_type": "code",
   "execution_count": 13,
   "metadata": {},
   "outputs": [
    {
     "data": {
      "text/plain": [
       "(1, 2, 3)"
      ]
     },
     "execution_count": 13,
     "metadata": {},
     "output_type": "execute_result"
    }
   ],
   "source": [
    "r=1,2,3\n",
    "r"
   ]
  },
  {
   "cell_type": "code",
   "execution_count": 16,
   "metadata": {},
   "outputs": [
    {
     "name": "stdout",
     "output_type": "stream",
     "text": [
      "1 2 3\n"
     ]
    }
   ],
   "source": [
    "x,y,z=1,2,3\n",
    "print(x,y,z)"
   ]
  },
  {
   "cell_type": "code",
   "execution_count": 18,
   "metadata": {},
   "outputs": [
    {
     "name": "stdout",
     "output_type": "stream",
     "text": [
      "1 2 [3, 4]\n"
     ]
    }
   ],
   "source": [
    "x,y,*r=1,2,3,4\n",
    "print(x,y,r)"
   ]
  },
  {
   "cell_type": "code",
   "execution_count": 21,
   "metadata": {},
   "outputs": [
    {
     "name": "stdout",
     "output_type": "stream",
     "text": [
      "1 5 [2, 3, 4]\n"
     ]
    }
   ],
   "source": [
    "x,*m,y=1,2,3,4,5\n",
    "print(x,y,m)"
   ]
  },
  {
   "cell_type": "code",
   "execution_count": 22,
   "metadata": {},
   "outputs": [
    {
     "name": "stdout",
     "output_type": "stream",
     "text": [
      "h d ['e', 'l', 'l', 'o', ',', 'w', 'o', 'r', 'l']\n"
     ]
    }
   ],
   "source": [
    "x,*m,y='hello,world'\n",
    "print(x,y,m)"
   ]
  },
  {
   "cell_type": "code",
   "execution_count": 23,
   "metadata": {},
   "outputs": [
    {
     "name": "stdout",
     "output_type": "stream",
     "text": [
      "3 3\n"
     ]
    }
   ],
   "source": [
    "x=y=3\n",
    "print(x,y)"
   ]
  },
  {
   "cell_type": "code",
   "execution_count": 27,
   "metadata": {},
   "outputs": [
    {
     "name": "stdout",
     "output_type": "stream",
     "text": [
      "[0, 2] [0, 2]\n"
     ]
    },
    {
     "data": {
      "text/plain": [
       "True"
      ]
     },
     "execution_count": 27,
     "metadata": {},
     "output_type": "execute_result"
    }
   ],
   "source": [
    "x=y=[1,2]\n",
    "x[0]=0\n",
    "print(x,y)\n",
    "x is y"
   ]
  },
  {
   "cell_type": "code",
   "execution_count": 29,
   "metadata": {},
   "outputs": [
    {
     "data": {
      "text/plain": [
       "True"
      ]
     },
     "execution_count": 29,
     "metadata": {},
     "output_type": "execute_result"
    }
   ],
   "source": [
    "x='hello'\n",
    "y='hello'\n",
    "x is y"
   ]
  },
  {
   "cell_type": "code",
   "execution_count": 31,
   "metadata": {},
   "outputs": [
    {
     "data": {
      "text/plain": [
       "1"
      ]
     },
     "execution_count": 31,
     "metadata": {},
     "output_type": "execute_result"
    }
   ],
   "source": [
    "a=0\n",
    "a+=1\n",
    "a"
   ]
  },
  {
   "cell_type": "code",
   "execution_count": 32,
   "metadata": {},
   "outputs": [
    {
     "data": {
      "text/plain": [
       "1"
      ]
     },
     "execution_count": 32,
     "metadata": {},
     "output_type": "execute_result"
    }
   ],
   "source": [
    "a=0\n",
    "a=a+1\n",
    "a"
   ]
  },
  {
   "cell_type": "code",
   "execution_count": 35,
   "metadata": {},
   "outputs": [
    {
     "name": "stdout",
     "output_type": "stream",
     "text": [
      "True\n",
      "[1, 2, 3]\n",
      "False\n"
     ]
    }
   ],
   "source": [
    "a=[1,2]\n",
    "b=a\n",
    "print(a is b)\n",
    "a=a+[3]\n",
    "print(a)\n",
    "print(a is b)"
   ]
  },
  {
   "cell_type": "code",
   "execution_count": 36,
   "metadata": {},
   "outputs": [
    {
     "data": {
      "text/plain": [
       "[1, 2]"
      ]
     },
     "execution_count": 36,
     "metadata": {},
     "output_type": "execute_result"
    }
   ],
   "source": [
    "b"
   ]
  },
  {
   "cell_type": "code",
   "execution_count": 40,
   "metadata": {},
   "outputs": [
    {
     "name": "stdout",
     "output_type": "stream",
     "text": [
      "your name please:wx\n",
      "hello,wx\n"
     ]
    }
   ],
   "source": [
    "name=input('your name please:')\n",
    "print('hello,'+name if name else 'you forgot your name?')"
   ]
  },
  {
   "cell_type": "code",
   "execution_count": 43,
   "metadata": {},
   "outputs": [
    {
     "name": "stdout",
     "output_type": "stream",
     "text": [
      "please input the year:2400\n",
      "leap year\n"
     ]
    }
   ],
   "source": [
    "def leap_year(year):    \n",
    "    if year%400==0:\n",
    "        return True\n",
    "    elif year%100==0:\n",
    "        return False\n",
    "    elif year%4==0:\n",
    "        return True\n",
    "    else:\n",
    "        return False\n",
    "    \n",
    "year=int(input('please input the year:'))\n",
    "print('leap year'if leap_year(year)else 'not leap year')"
   ]
  },
  {
   "cell_type": "code",
   "execution_count": 46,
   "metadata": {},
   "outputs": [
    {
     "name": "stdout",
     "output_type": "stream",
     "text": [
      "Test OK.\n"
     ]
    }
   ],
   "source": [
    "def leap_year(year):    \n",
    "    assert(year>=0)\n",
    "    return (year%400==0)or(year%4==0 and year%100)\n",
    "assert(leap_year(2000))\n",
    "assert(leap_year(1980))\n",
    "assert(leap_year(1987))\n",
    "assert(leap_year(1000)==False)\n",
    "print('Test OK.')"
   ]
  },
  {
   "cell_type": "code",
   "execution_count": 53,
   "metadata": {},
   "outputs": [
    {
     "name": "stdout",
     "output_type": "stream",
     "text": [
      "\b                                                           *"
     ]
    }
   ],
   "source": [
    "import math\n",
    "def wait():\n",
    "    y=0\n",
    "    while y<500000:\n",
    "        z=math.sin(x)*math.exp(x)\n",
    "        y += 1\n",
    "for x in range(1,60):\n",
    "    print('\\b *',end='')\n",
    "    wait()"
   ]
  },
  {
   "cell_type": "code",
   "execution_count": null,
   "metadata": {},
   "outputs": [
    {
     "name": "stdout",
     "output_type": "stream",
     "text": [
      "        #                                                              *        "
     ]
    }
   ],
   "source": [
    "import math\n",
    "def wait():\n",
    "    y=0\n",
    "    while y<500000:\n",
    "        z=math.sin(x)*math.exp(x)\n",
    "        y += 1\n",
    "bar=list()\n",
    "for i in range(0,80):\n",
    "    bar.append(' ')\n",
    "x=0\n",
    "y=79\n",
    "\n",
    "for i in range(0,80):\n",
    "    bar[x]='*'\n",
    "    bar[y]='#'\n",
    "    for ch in bar:\n",
    "        print(ch,sep='',end='')\n",
    "    wait()\n",
    "    bar[x]=' '\n",
    "    bar[y]=' '\n",
    "    x+=1\n",
    "    y-=1\n",
    "    print('\\r',end='')"
   ]
  },
  {
   "cell_type": "code",
   "execution_count": null,
   "metadata": {},
   "outputs": [],
   "source": []
  }
 ],
 "metadata": {
  "kernelspec": {
   "display_name": "Python 3",
   "language": "python",
   "name": "python3"
  },
  "language_info": {
   "codemirror_mode": {
    "name": "ipython",
    "version": 3
   },
   "file_extension": ".py",
   "mimetype": "text/x-python",
   "name": "python",
   "nbconvert_exporter": "python",
   "pygments_lexer": "ipython3",
   "version": "3.7.3"
  }
 },
 "nbformat": 4,
 "nbformat_minor": 2
}
